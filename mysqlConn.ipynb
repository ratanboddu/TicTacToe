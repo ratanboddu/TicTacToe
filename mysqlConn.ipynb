{
 "cells": [
  {
   "cell_type": "code",
   "execution_count": null,
   "metadata": {},
   "outputs": [],
   "source": [
    "import mysql.connector"
   ]
  },
  {
   "cell_type": "code",
   "execution_count": null,
   "metadata": {},
   "outputs": [],
   "source": [
    "mydb = mysql.connector.connect(\n",
    "  host=\"mosaic-k8s-qa.mysql.database.azure.com\",\n",
    "  user=\"maxiq@mosaic-k8s-qa\",\n",
    "  passwd=\"M0saic_qa_mysq1\",\n",
    "  database=\"covid\"\n",
    ")\n",
    "\n",
    "print(mydb)"
   ]
  },
  {
   "cell_type": "code",
   "execution_count": null,
   "metadata": {},
   "outputs": [],
   "source": [
    "mycursor = mydb.cursor()"
   ]
  },
  {
   "cell_type": "code",
   "execution_count": null,
   "metadata": {},
   "outputs": [],
   "source": [
    "mycursor.execute(\"select * from covid_declaration\")"
   ]
  },
  {
   "cell_type": "code",
   "execution_count": null,
   "metadata": {},
   "outputs": [],
   "source": [
    "master_data = []"
   ]
  },
  {
   "cell_type": "code",
   "execution_count": null,
   "metadata": {},
   "outputs": [],
   "source": [
    "for x in mycursor:\n",
    "    users = mydb.cursor()\n",
    "    users.execute(f\"select * from covid_users where bluetooth_id = {x[1]}\")\n",
    "    for y in users:\n",
    "        data = {}\n",
    "        import json\n",
    "        declaration_data = json.loads(x[2])\n",
    "        if declaration_data.get(\"longitude\"):\n",
    "            data.update(\n",
    "                {\n",
    "                    \"Longitude\": float(declaration_data.get(\"longitude\")),\n",
    "                    \"Latitude\":  float(declaration_data.get(\"latitude\")),\n",
    "                    \"BluetoothID\": x[1],\n",
    "                    \"User Category\": user_data[8]\n",
    "                }\n",
    "            )\n",
    "            master_data.append(data)\n",
    "    \n",
    "  \n",
    "\n",
    "print(master_data)"
   ]
  },
  {
   "cell_type": "code",
   "execution_count": null,
   "metadata": {},
   "outputs": [],
   "source": []
  }
 ],
 "metadata": {
  "kernelspec": {
   "display_name": "Python 3",
   "language": "python",
   "name": "python3"
  },
  "language_info": {
   "codemirror_mode": {
    "name": "ipython",
    "version": 3
   },
   "file_extension": ".py",
   "mimetype": "text/x-python",
   "name": "python",
   "nbconvert_exporter": "python",
   "pygments_lexer": "ipython3",
   "version": "3.6.2"
  }
 },
 "nbformat": 4,
 "nbformat_minor": 2
}
